{
 "cells": [
  {
   "cell_type": "code",
   "execution_count": 1,
   "metadata": {},
   "outputs": [],
   "source": [
    "import os\n",
    "import os.path as path\n",
    "from tqdm import tqdm\n",
    "import shutil\n",
    "import random"
   ]
  },
  {
   "cell_type": "markdown",
   "metadata": {},
   "source": [
    "The knee dataset is uniquely structued and needs to be preprocessed correctly.\n",
    "\n",
    "1. Place the images into two categories. Fractured and Not Fractured\n",
    "2. Perform Train Test Split on it. Both train and test should contain fractured and not fractured.\n",
    "3. Create Validation set from training \n",
    "\"\"\"\n",
    "\n",
    "\"\"\"\n",
    "Knees Dataset\n",
    "\n",
    "0 - Normal Not Fractured\n",
    "1 - Doubtful Ignore\n",
    "\n",
    "2 - Mild Ignore\n",
    "\n",
    "3 - Moderate Fractured\n",
    "4 - Severe Fracture\n",
    "\n",
    "Make test, train and validation set from them.\n",
    "\n",
    "Split the knee dataset into fractured and non fractured\n",
    "Go through the knee dataset and grab the non fractured bones\n",
    "\n",
    "we should other images of fractured different bones to the fractured dataset\n",
    "\n",
    "60-70 \n",
    "\n",
    "try to find as much good data\n",
    "data preprocessing is the most important part\n",
    "generalization\n",
    " "
   ]
  },
  {
   "cell_type": "markdown",
   "metadata": {},
   "source": [
    "Make Training Set"
   ]
  },
  {
   "cell_type": "code",
   "execution_count": 4,
   "metadata": {},
   "outputs": [],
   "source": [
    "# Training Paths\n",
    "frac_dir = '/Users/vinhemduong/Documents/CS171/Project/X-ray-_mage_classification_CNNRNN/Data/Knee/fractured/images'\n",
    "nonfrac_dir = '/Users/vinhemduong/Documents/CS171/Project/X-ray-_mage_classification_CNNRNN/Data/Knee/nonfractured/0Normal-Medical Expert 1'\n",
    "\n",
    "train_frac_dir = '/Users/vinhemduong/Documents/CS171/Project/X-ray-_mage_classification_CNNRNN/Data/Knee/training/fractured'\n",
    "train_nonfrac_dir = '/Users/vinhemduong/Documents/CS171/Project/X-ray-_mage_classification_CNNRNN/Data/Knee/training/nonfractured'"
   ]
  },
  {
   "cell_type": "code",
   "execution_count": 5,
   "metadata": {},
   "outputs": [
    {
     "name": "stderr",
     "output_type": "stream",
     "text": [
      "Moving fractured bones files: 100%|██████████| 341/341 [00:00<00:00, 6772.47file/s]\n",
      "Moving fractured not bones files: 100%|██████████| 411/411 [00:00<00:00, 5909.17file/s]\n"
     ]
    }
   ],
   "source": [
    "def create_set(source, dest, desc):\n",
    "  files = [os.path.join(root, f) for root, _, files in os.walk(source) for f in files]\n",
    "  num_files = int(len(files)*0.8) # Using 80% of files\n",
    "  files_to_move = random.sample(files, num_files)\n",
    "  for file_path in tqdm(files_to_move, total=len(files_to_move), desc= desc, unit='file'):\n",
    "    dest_file = os.path.join(dest, os.path.basename(file_path))\n",
    "    shutil.move(file_path, dest_file)\n",
    "\n",
    "#move files\n",
    "create_set(frac_dir, train_frac_dir, 'Moving fractured bones files')\n",
    "create_set(nonfrac_dir, train_nonfrac_dir, 'Moving fractured not bones files')"
   ]
  },
  {
   "cell_type": "markdown",
   "metadata": {},
   "source": [
    "Make Testing Set"
   ]
  },
  {
   "cell_type": "code",
   "execution_count": null,
   "metadata": {},
   "outputs": [],
   "source": [
    "# Test Paths\n",
    "test_frac_dir = '/Users/vinhemduong/Documents/CS171/Project/X-ray-_mage_classification_CNNRNN/Data/Knee/test/fractured'\n",
    "test_nonfrac_dir = '/Users/vinhemduong/Documents/CS171/Project/X-ray-_mage_classification_CNNRNN/Data/Knee/test/nonfractured'"
   ]
  },
  {
   "cell_type": "code",
   "execution_count": 8,
   "metadata": {},
   "outputs": [
    {
     "name": "stderr",
     "output_type": "stream",
     "text": [
      "Moving Fractured Bone Files: 100%|██████████| 43/43 [00:00<00:00, 5242.58file/s]\n",
      "Moving Non Fractured Bone Files: 100%|██████████| 51/51 [00:00<00:00, 5118.06file/s]\n"
     ]
    }
   ],
   "source": [
    "def create_other_set(source, dest, desc):\n",
    "  files = [os.path.join(root, f) for root, _, files in os.walk(source) for f in files]\n",
    "  num_files = int(len(files)*0.5) # Using 10% of files\n",
    "  files_to_move = random.sample(files, num_files)\n",
    "  for file_path in tqdm(files_to_move, total=len(files_to_move), desc= desc, unit='file'):\n",
    "    dest_file = os.path.join(dest, os.path.basename(file_path))\n",
    "    shutil.move(file_path, dest_file)\n",
    "    \n",
    "create_other_set(frac_dir, test_frac_dir, 'Moving Fractured Bone Files')\n",
    "create_other_set(nonfrac_dir, test_nonfrac_dir, 'Moving Non Fractured Bone Files')"
   ]
  }
 ],
 "metadata": {
  "kernelspec": {
   "display_name": "my_env",
   "language": "python",
   "name": "python3"
  },
  "language_info": {
   "codemirror_mode": {
    "name": "ipython",
    "version": 3
   },
   "file_extension": ".py",
   "mimetype": "text/x-python",
   "name": "python",
   "nbconvert_exporter": "python",
   "pygments_lexer": "ipython3",
   "version": "3.12.3"
  }
 },
 "nbformat": 4,
 "nbformat_minor": 2
}
