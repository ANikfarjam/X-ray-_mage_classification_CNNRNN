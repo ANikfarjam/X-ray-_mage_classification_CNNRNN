{
 "cells": [
  {
   "cell_type": "code",
   "execution_count": 3,
   "metadata": {},
   "outputs": [],
   "source": [
    "import os\n",
    "import os.path as path\n",
    "from tqdm import tqdm\n",
    "import shutil\n",
    "import random"
   ]
  },
  {
   "cell_type": "code",
   "execution_count": 2,
   "metadata": {},
   "outputs": [],
   "source": [
    "frac_dir = 'fractured'\n",
    "nfrac_dir = 'nonfractured'"
   ]
  },
  {
   "cell_type": "code",
   "execution_count": 4,
   "metadata": {},
   "outputs": [],
   "source": [
    "def create_set(source, dest, desc, percentage):\n",
    "  files = [os.path.join(root, f) for root, _, files in os.walk(source) for f in files]\n",
    "  num_files = int(len(files)* percentage) \n",
    "  files_to_move = random.sample(files, num_files)\n",
    "  for file_path in tqdm(files_to_move, total=len(files_to_move), desc= desc, unit='file'):\n",
    "    dest_file = os.path.join(dest, os.path.basename(file_path))\n",
    "    shutil.move(file_path, dest_file)"
   ]
  },
  {
   "cell_type": "code",
   "execution_count": 5,
   "metadata": {},
   "outputs": [],
   "source": [
    "train_frac = 'train/fractured'\n",
    "train_nfrac = 'train/nonfractured'"
   ]
  },
  {
   "cell_type": "code",
   "execution_count": 6,
   "metadata": {},
   "outputs": [
    {
     "name": "stderr",
     "output_type": "stream",
     "text": [
      "Putting fractured bones: 100%|██████████| 895/895 [00:00<00:00, 8503.57file/s]\n",
      "Putting nonfractured bones: 100%|██████████| 1141/1141 [00:00<00:00, 9368.59file/s]\n"
     ]
    }
   ],
   "source": [
    "# Fractured\n",
    "create_set(frac_dir, train_frac, \"Putting fractured bones\", 0.6)\n",
    "# Non Fractured\n",
    "create_set(nfrac_dir, train_nfrac, \"Putting nonfractured bones\", 0.6)"
   ]
  },
  {
   "cell_type": "code",
   "execution_count": 7,
   "metadata": {},
   "outputs": [],
   "source": [
    "test_frac = 'test/fractured'\n",
    "test_nfrac = 'test/nonfractured'"
   ]
  },
  {
   "cell_type": "code",
   "execution_count": 8,
   "metadata": {},
   "outputs": [
    {
     "name": "stderr",
     "output_type": "stream",
     "text": [
      "Putting fractured bones: 100%|██████████| 298/298 [00:00<00:00, 8960.84file/s]\n",
      "Putting nonfractured bones: 100%|██████████| 380/380 [00:00<00:00, 9574.89file/s]\n"
     ]
    }
   ],
   "source": [
    "# Fractured\n",
    "create_set(frac_dir, test_frac, \"Putting fractured bones\", 0.5)\n",
    "# Non Fractured\n",
    "create_set(nfrac_dir, test_nfrac, \"Putting nonfractured bones\", 0.5)"
   ]
  },
  {
   "cell_type": "code",
   "execution_count": 9,
   "metadata": {},
   "outputs": [],
   "source": [
    "valid_frac = 'valid/fractured'\n",
    "valid_nfrac = 'valid/nonfractured'"
   ]
  },
  {
   "cell_type": "code",
   "execution_count": 10,
   "metadata": {},
   "outputs": [
    {
     "name": "stderr",
     "output_type": "stream",
     "text": [
      "Putting fractured bones: 100%|██████████| 299/299 [00:00<00:00, 8819.06file/s]\n",
      "Putting nonfractured bones: 100%|██████████| 381/381 [00:00<00:00, 9416.18file/s]\n"
     ]
    }
   ],
   "source": [
    "# Fractured\n",
    "create_set(frac_dir, valid_frac, \"Putting fractured bones\", 1)\n",
    "# Non Fractured\n",
    "create_set(nfrac_dir, valid_nfrac, \"Putting nonfractured bones\", 1)"
   ]
  }
 ],
 "metadata": {
  "kernelspec": {
   "display_name": "my_env",
   "language": "python",
   "name": "python3"
  },
  "language_info": {
   "codemirror_mode": {
    "name": "ipython",
    "version": 3
   },
   "file_extension": ".py",
   "mimetype": "text/x-python",
   "name": "python",
   "nbconvert_exporter": "python",
   "pygments_lexer": "ipython3",
   "version": "3.12.3"
  }
 },
 "nbformat": 4,
 "nbformat_minor": 2
}
