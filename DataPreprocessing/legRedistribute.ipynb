{
 "cells": [
  {
   "cell_type": "markdown",
   "metadata": {},
   "source": [
    "For each directory try to make a fractured and nonfractured subfolder.\n",
    "If an image starts with normal, add it to the nonfractured subsolder.\n",
    "Else add it to the fractured subfolder."
   ]
  },
  {
   "cell_type": "code",
   "execution_count": 11,
   "metadata": {},
   "outputs": [],
   "source": [
    "import os\n",
    "import os.path as path\n",
    "from tqdm import tqdm\n",
    "import numpy as np\n",
    "import random\n",
    "import shutil"
   ]
  },
  {
   "cell_type": "code",
   "execution_count": 12,
   "metadata": {},
   "outputs": [],
   "source": [
    "def fracOrNot(source, frac_dest, non_dest):\n",
    "    #files = [os.path.join(root, f) for root, _, files in os.walk(source) for f in files]\n",
    "    \n",
    "    for file_name in os.listdir(source):\n",
    "        file_path = os.path.join(source, file_name)\n",
    "        \n",
    "        if file_name.startswith('normal'):\n",
    "            shutil.move(file_path, os.path.join(non_dest, file_name))\n",
    "        else:\n",
    "            shutil.move(file_path, os.path.join(frac_dest, file_name))\n",
    "        "
   ]
  },
  {
   "cell_type": "markdown",
   "metadata": {},
   "source": [
    "Paths"
   ]
  },
  {
   "cell_type": "code",
   "execution_count": 26,
   "metadata": {},
   "outputs": [],
   "source": [
    "#valid_images_path = 'Data/Legs/valid/images'\n",
    "valid_images_path = 'valid/images'\n",
    "valid_frac_files = 'valid/fractured'\n",
    "valid_nonfrac_files = 'valid/nonfractured'\n",
    "\n",
    "fracOrNot(valid_images_path, valid_frac_files, valid_nonfrac_files)"
   ]
  },
  {
   "cell_type": "markdown",
   "metadata": {},
   "source": [
    "Train"
   ]
  },
  {
   "cell_type": "code",
   "execution_count": 27,
   "metadata": {},
   "outputs": [],
   "source": [
    "train_images_path = 'train/images'\n",
    "train_frac_files = 'train/fractured'\n",
    "train_nonfrac_files = 'train/nonfractured'\n",
    "\n",
    "fracOrNot(train_images_path, train_frac_files, train_nonfrac_files)"
   ]
  },
  {
   "cell_type": "code",
   "execution_count": 28,
   "metadata": {},
   "outputs": [],
   "source": [
    "test_images_path = 'test/images'\n",
    "test_frac_files = 'test/fractured'\n",
    "test_nonfrac_files = 'test/nonfractured'\n",
    "\n",
    "fracOrNot(test_images_path, test_frac_files, test_nonfrac_files)"
   ]
  }
 ],
 "metadata": {
  "kernelspec": {
   "display_name": "my_env",
   "language": "python",
   "name": "python3"
  },
  "language_info": {
   "codemirror_mode": {
    "name": "ipython",
    "version": 3
   },
   "file_extension": ".py",
   "mimetype": "text/x-python",
   "name": "python",
   "nbconvert_exporter": "python",
   "pygments_lexer": "ipython3",
   "version": "3.12.3"
  }
 },
 "nbformat": 4,
 "nbformat_minor": 2
}
