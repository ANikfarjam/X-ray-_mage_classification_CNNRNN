{
 "cells": [
  {
   "cell_type": "markdown",
   "metadata": {},
   "source": [
    "Train test split is important\n",
    "\n",
    "We should take our 20 % of our training data and add it towards our test dir\n",
    "Then we should split it into frac and non frac\n",
    "\n",
    "619 total images"
   ]
  },
  {
   "cell_type": "code",
   "execution_count": 8,
   "metadata": {},
   "outputs": [],
   "source": [
    "import os\n",
    "import shutil\n",
    "import os.path as path\n",
    "from tqdm import tqdm\n",
    "import random"
   ]
  },
  {
   "cell_type": "markdown",
   "metadata": {},
   "source": [
    "Paths"
   ]
  },
  {
   "cell_type": "code",
   "execution_count": null,
   "metadata": {},
   "outputs": [],
   "source": [
    "\n",
    "train_images_path = 'train/images'\n",
    "\n",
    "test_images_path = 'test/images'\n",
    "\n"
   ]
  },
  {
   "cell_type": "code",
   "execution_count": 10,
   "metadata": {},
   "outputs": [],
   "source": [
    "def create_test_set(source, dest):\n",
    "    files = [os.path.join(root, f) for root, _, files in os.walk(source) for f in files]\n",
    "    num_files = int(len(files) * 0.2)\n",
    "    files_to_move = random.sample(files, num_files)\n",
    "    for file_path in tqdm(files_to_move, total = len(files_to_move), unit = 'file'):\n",
    "        dest_file = os.path.join(dest, os.path.basename(file_path))\n",
    "        shutil.move(file_path, dest_file)"
   ]
  },
  {
   "cell_type": "markdown",
   "metadata": {},
   "source": [
    "create test set"
   ]
  },
  {
   "cell_type": "code",
   "execution_count": null,
   "metadata": {},
   "outputs": [
    {
     "name": "stderr",
     "output_type": "stream",
     "text": [
      "100%|██████████| 121/121 [00:00<00:00, 5876.42file/s]\n"
     ]
    }
   ],
   "source": [
    "#create_test_set(train_images_path, test_images_path)"
   ]
  },
  {
   "cell_type": "code",
   "execution_count": 16,
   "metadata": {},
   "outputs": [],
   "source": [
    "def fracOrNot(source, frac_dest, non_dest):\n",
    "    #files = [os.path.join(root, f) for root, _, files in os.walk(source) for f in files]\n",
    "    \n",
    "    for file_name in os.listdir(source):\n",
    "        file_path = os.path.join(source, file_name)\n",
    "        \n",
    "        if file_name.startswith('f'):\n",
    "            shutil.move(file_path, os.path.join(frac_dest, file_name))\n",
    "        else:\n",
    "            shutil.move(file_path, os.path.join(non_dest, file_name))"
   ]
  },
  {
   "cell_type": "code",
   "execution_count": 17,
   "metadata": {},
   "outputs": [],
   "source": [
    "valid_images_path = 'valid/images'\n",
    "valid_frac_dir = 'valid/fractured'\n",
    "valid_nonfrac_dir = 'valid/nonfractured'\n",
    "\n",
    "fracOrNot(valid_images_path, valid_frac_dir, valid_nonfrac_dir)"
   ]
  },
  {
   "cell_type": "code",
   "execution_count": 18,
   "metadata": {},
   "outputs": [],
   "source": [
    "train_images_path = 'train/images'\n",
    "train_frac_dir = 'train/fractured'\n",
    "train_nonfrac_dir = 'train/nonfractured'\n",
    "\n",
    "fracOrNot(train_images_path, train_frac_dir, train_nonfrac_dir)"
   ]
  },
  {
   "cell_type": "code",
   "execution_count": 19,
   "metadata": {},
   "outputs": [],
   "source": [
    "test_images_path = 'test/images'\n",
    "test_frac_dir = 'test/fractured'\n",
    "test_nonfrac_dir = 'test/nonfractured'\n",
    "\n",
    "fracOrNot(test_images_path, test_frac_dir, test_nonfrac_dir)"
   ]
  }
 ],
 "metadata": {
  "kernelspec": {
   "display_name": "my_env",
   "language": "python",
   "name": "python3"
  },
  "language_info": {
   "codemirror_mode": {
    "name": "ipython",
    "version": 3
   },
   "file_extension": ".py",
   "mimetype": "text/x-python",
   "name": "python",
   "nbconvert_exporter": "python",
   "pygments_lexer": "ipython3",
   "version": "3.12.3"
  }
 },
 "nbformat": 4,
 "nbformat_minor": 2
}
